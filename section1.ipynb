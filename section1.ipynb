{
 "cells": [
  {
   "cell_type": "code",
   "execution_count": null,
   "metadata": {},
   "outputs": [],
   "source": [
    "import numpy as np\n",
    "import pandas as pd\n",
    "import matplotlib.pyplot as plt\n",
    "galaxy_data = pd.read_csv('galaxy.csv')\n",
    "#speed of light=c in km/s\n",
    "c=299792\n",
    "#radial velocities are in km/s\n",
    "#using v=(delta(lambda)/(lambda))*c\n",
    "galaxy_data['radial_velocities']=abs(galaxy_data['Observed Wavelength of H-alpha']- 6562.8)*c/6562.8\n",
    "print(galaxy_data['radial_velocities'])\n"
   ]
  },
  {
   "cell_type": "markdown",
   "metadata": {},
   "source": [
    "Q1.1"
   ]
  },
  {
   "cell_type": "code",
   "execution_count": null,
   "metadata": {},
   "outputs": [],
   "source": [
    "#we can use Hubble's law\n",
    "#H=Hubble constant in km/s/Mpc\n",
    "H=69.8\n",
    "#distance of celetial body= radial velocity/Hubble constant\n",
    "galaxy_data['distance']=galaxy_data['radial_velocities']/H\n",
    "#apparent size(theta)= 1.22* lambda / distance\n",
    "galaxy_data['apparent size']=1.22*galaxy_data['Observed Wavelength of H-alpha']/galaxy_data['distance']\n",
    "print(galaxy_data['apparent size'])"
   ]
  },
  {
   "cell_type": "markdown",
   "metadata": {},
   "source": [
    "Q1.2"
   ]
  },
  {
   "cell_type": "markdown",
   "metadata": {},
   "source": [
    "Below is the code for plotting RA and declination with radial velocity"
   ]
  },
  {
   "cell_type": "code",
   "execution_count": null,
   "metadata": {},
   "outputs": [],
   "source": [
    "RA = galaxy_data['RA J2000.0']\n",
    "declination = galaxy_data['Dec J2000.0']\n",
    "radial_velocity = galaxy_data['radial_velocities']\n",
    "plt.scatter(RA, declination, c=radial_velocity, cmap='viridis', alpha=0.7)\n",
    "plt.colorbar(label='Radial Velocity')\n",
    "plt.xlabel('Right Ascension (RA)')\n",
    "plt.ylabel('Declination')\n",
    "plt.title('Galaxy Positions and Radial Velocities')\n",
    "plt.grid(True)\n",
    "plt.show()"
   ]
  }
 ],
 "metadata": {
  "language_info": {
   "name": "python"
  }
 },
 "nbformat": 4,
 "nbformat_minor": 2
}
